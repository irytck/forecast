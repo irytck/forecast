{
 "cells": [
  {
   "cell_type": "markdown",
   "id": "fc5e2e47-3339-4dff-8151-c34f7357e8fc",
   "metadata": {},
   "source": [
    "# Time Series analysis and Forecasting\n"
   ]
  },
  {
   "cell_type": "code",
   "execution_count": 2,
   "id": "dd5a1e8e-ee1e-43d0-9613-319c3d84d560",
   "metadata": {},
   "outputs": [],
   "source": [
    "# Step 0: Import libraries and load data"
   ]
  },
  {
   "cell_type": "code",
   "execution_count": 7,
   "id": "a9d9fe8d-7305-41b6-9a85-d07de5ccb6cc",
   "metadata": {},
   "outputs": [],
   "source": [
    "# Preprocess of Z_t (serie temporal)"
   ]
  },
  {
   "cell_type": "code",
   "execution_count": null,
   "id": "869b25d5-429c-4626-962e-a3f39d233a1d",
   "metadata": {},
   "outputs": [],
   "source": [
    "# Graphic representation of the Z_t"
   ]
  },
  {
   "cell_type": "markdown",
   "id": "b79d1f39-dbca-49a8-88d1-6af3ce9a7699",
   "metadata": {},
   "source": [
    "# Exploratory Data Analysis (EDA)\n",
    "Estochastic process...\n",
    "Analyzing trend, variance, seasonality and random components.\n",
    "¿Is variance constant?\n",
    "¿Is mean constant?\n",
    "¿Seasonality is present?"
   ]
  },
  {
   "cell_type": "code",
   "execution_count": 5,
   "id": "5e40d491-8c63-4805-a4a9-e47f584fb0ff",
   "metadata": {},
   "outputs": [],
   "source": [
    "# Original Time series decomposition"
   ]
  },
  {
   "cell_type": "markdown",
   "id": "ed446095-35a2-48f1-a837-ac2eea275ba2",
   "metadata": {},
   "source": [
    "The results highlights a varying variance in the residuals, with lower variance from 2015–2020 and higher, more volatile variance afterward. This pattern suggests heteroscedasticity, which may impact the performance of an ARIMA model if left unaddressed. One common solution is to apply a log transformation (or sometimes a Box-Cox transformation) to stabilize the variance across the series. This transformation can help reduce the impact of extreme changes and make the series more suitable for ARIMA."
   ]
  },
  {
   "cell_type": "code",
   "execution_count": 9,
   "id": "e90b6628-e51a-4cab-8308-e94aa6b7ee30",
   "metadata": {},
   "outputs": [],
   "source": [
    "# Log transformation to stabilize the variance"
   ]
  },
  {
   "cell_type": "code",
   "execution_count": null,
   "id": "8476f0df-0de0-43ec-97d2-1eb9dd42bed1",
   "metadata": {},
   "outputs": [],
   "source": [
    "# Stationarity test (original and differenciated serie)"
   ]
  },
  {
   "cell_type": "code",
   "execution_count": 12,
   "id": "553107d1-ff12-4603-947d-b83961be034c",
   "metadata": {},
   "outputs": [],
   "source": [
    "# Transformed and differenciate time serie decomposition to re-evaluate the stationarity tests and variance to check if this has helped stabilize the residuals."
   ]
  },
  {
   "cell_type": "markdown",
   "id": "f7e0a1c2-7290-40de-a1c8-3c51e1da072c",
   "metadata": {},
   "source": [
    "The ADF and KPSS test results indicate that the original series is non-stationary (with high p-values for ADF and a low p-value for KPSS), but after first differencing, the series becomes stationary (ADF p-value is extremely low, and KPSS p-value is high). This suggests that a differencing order of 1 is appropriate for the ARIMA model.\n",
    "\n",
    "For the seasonal component, there is annual seasonality based on observation. Since the data is monthly, a seasonal period of 12 is reasonable. This leads to a SARIMA model (Seasonal ARIMA), where the seasonal parameters will capture the year-over-year effects."
   ]
  },
  {
   "cell_type": "markdown",
   "id": "18fc8e9f-0aca-4eb3-a125-e1ef6ec22b8d",
   "metadata": {},
   "source": [
    "# Autocorrelation analysis to etermine Parameters for SARIMA(p,d,q)(P,D,Q,s). "
   ]
  },
  {
   "cell_type": "code",
   "execution_count": null,
   "id": "dc3c85bf-6b09-4b19-918f-c7521f0bda1a",
   "metadata": {},
   "outputs": [],
   "source": [
    "# ACF"
   ]
  },
  {
   "cell_type": "code",
   "execution_count": 15,
   "id": "1d4ebfc3-8735-4d26-b46c-b9e1afd659e2",
   "metadata": {},
   "outputs": [],
   "source": [
    "# PACF"
   ]
  },
  {
   "cell_type": "markdown",
   "id": "68c12ace-0f7a-45ae-bf15-6487422bfcab",
   "metadata": {},
   "source": [
    "Based on ACF and PACF observations, the parameters for both the non-seasonal and seasonal parts of your SARIMA model are:\n",
    "\n",
    "Non-Seasonal (p, d, q) Parameters:\n",
    "Since the ACF and PACF both show a significant spike at lag 1 and then drop to zero, this suggests a simple structure for the non-seasonal AR and MA components:\n",
    "\n",
    "AR (p) = 1: The spike in the PACF at lag 1 suggests a single autoregressive term.\n",
    "MA (q) = 1: The spike in the ACF at lag 1 also suggests a single moving average term.\n",
    "Differencing (d) = 1: Based on the stationarity test results, established before, a first difference (d = 1) is appropriate to make the series stationary.\n",
    "\n",
    "Thus, for the non-seasonal component, ARIMA (p, d, q) = (1, 1, 1).\n",
    "\n",
    "Seasonal (P, D, Q, s) Parameters:\n",
    "With a monthly frequency and clear annual seasonality, the seasonal period s is 12.\n",
    "\n",
    "From the PACF and ACF patterns following seasonal parameters are determined:\n",
    "\n",
    "Seasonal AR (P) = 1: The significant spike at lag 12 in the PACF indicates that a seasonal autoregressive component of order 1 could be suitable.\n",
    "Seasonal Differencing (D) = 1: Given the annual seasonality, D = 1 is typical to remove seasonal trends.\n",
    "Seasonal MA (Q) = 1: Since the ACF shows a spike at lag 12, but below the confidence interval, Q=0 is considered.\n",
    "For the seasonal part (P, D, Q, s) = (1, 1, 0, 12).\n",
    "\n",
    "Based on these parameters, the SARIMA model would be:\n",
    "\n",
    "**SARIMA(1, 1, 1)(1, 1, 1, 12)**"
   ]
  },
  {
   "cell_type": "markdown",
   "id": "9ccc21b4-cce9-43d4-89e8-04751f947ed6",
   "metadata": {},
   "source": [
    "# SARIMA Model fitting "
   ]
  },
  {
   "cell_type": "code",
   "execution_count": 20,
   "id": "25e9a0b9-3b94-4c6b-9652-d3aabbf6ea24",
   "metadata": {},
   "outputs": [],
   "source": [
    "# Split Data in Train and Test"
   ]
  },
  {
   "cell_type": "code",
   "execution_count": 22,
   "id": "6fcff366-c829-4139-9402-9ed9602c631b",
   "metadata": {},
   "outputs": [],
   "source": [
    "# Fit SARIMA(1,1,1)(1,1,0,12) model"
   ]
  },
  {
   "cell_type": "code",
   "execution_count": 24,
   "id": "4f48861f-ade5-4668-bc37-09265e8ece0a",
   "metadata": {},
   "outputs": [],
   "source": [
    "# Diagnostic"
   ]
  },
  {
   "cell_type": "markdown",
   "id": "bd7e5609-2489-4d77-b5c0-0624917baf4b",
   "metadata": {},
   "source": [
    "Interpret Diagnostic"
   ]
  },
  {
   "cell_type": "code",
   "execution_count": null,
   "id": "4af79f2e-4308-468e-9a10-2ad0f100f645",
   "metadata": {},
   "outputs": [],
   "source": [
    "# Predictions"
   ]
  },
  {
   "cell_type": "markdown",
   "id": "3e347730-fcc6-4133-a488-2640334b1da8",
   "metadata": {},
   "source": [
    "# Model tuning\n",
    "Optimizing hyperparameters (p,d,q)(P,D,Q) using grid-search techniques and auto-arima."
   ]
  },
  {
   "cell_type": "code",
   "execution_count": 28,
   "id": "4bbdfd4e-6014-4db6-988c-c461497bc398",
   "metadata": {},
   "outputs": [],
   "source": [
    "# Step 1: Split in train validation and test\n",
    "\n",
    "# Plot train, validation and test"
   ]
  },
  {
   "cell_type": "markdown",
   "id": "b5a7059a-eb3a-4c05-b70a-4819890a6b5b",
   "metadata": {},
   "source": [
    "## Grid Search basecd on backtesting"
   ]
  },
  {
   "cell_type": "code",
   "execution_count": null,
   "id": "eb0dbf76-091b-45ce-9230-64e0b7ad8c35",
   "metadata": {},
   "outputs": [],
   "source": [
    "# Grid search based on backtesting"
   ]
  },
  {
   "cell_type": "markdown",
   "id": "622268b0-7729-4e3a-83af-c7eacf642f0d",
   "metadata": {},
   "source": [
    "## Auto-Arima"
   ]
  },
  {
   "cell_type": "code",
   "execution_count": 32,
   "id": "b623e5fc-7d8d-44d5-abc1-70c17aea289f",
   "metadata": {},
   "outputs": [],
   "source": [
    "# Auto arima: selection based on AIC"
   ]
  },
  {
   "cell_type": "markdown",
   "id": "2428192b-ad88-4ddb-a483-4805ffcbc198",
   "metadata": {},
   "source": [
    "## Predictions"
   ]
  },
  {
   "cell_type": "code",
   "execution_count": 35,
   "id": "7cdaf395-9626-4b24-ad06-ccdbb0220525",
   "metadata": {},
   "outputs": [],
   "source": [
    "# Backtest predictions with the original model SARIMA(1,1,1)(1,1,0,12)\n",
    "\n",
    "# Backtest predictions with the best model according to grid search\n",
    "\n",
    "# Backtest predictions with the best model according to auto-arima\n"
   ]
  },
  {
   "cell_type": "code",
   "execution_count": 37,
   "id": "d6acce01-2709-41eb-a462-8b4ec6046475",
   "metadata": {},
   "outputs": [],
   "source": [
    "# Compare predictions (MAE)\n",
    "\n",
    "# Plot Actual vs Predicted"
   ]
  },
  {
   "cell_type": "markdown",
   "id": "1e49bba0-0213-4a8c-aeb4-7f09a4522eb4",
   "metadata": {},
   "source": [
    "# Conclusion and following steps"
   ]
  },
  {
   "cell_type": "code",
   "execution_count": null,
   "id": "8c9ae1c6-2083-4406-ae51-ef1c365cc706",
   "metadata": {},
   "outputs": [],
   "source": []
  }
 ],
 "metadata": {
  "kernelspec": {
   "display_name": "Python 3 (ipykernel)",
   "language": "python",
   "name": "python3"
  },
  "language_info": {
   "codemirror_mode": {
    "name": "ipython",
    "version": 3
   },
   "file_extension": ".py",
   "mimetype": "text/x-python",
   "name": "python",
   "nbconvert_exporter": "python",
   "pygments_lexer": "ipython3",
   "version": "3.10.14"
  }
 },
 "nbformat": 4,
 "nbformat_minor": 5
}
